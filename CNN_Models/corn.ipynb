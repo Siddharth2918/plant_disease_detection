{
 "cells": [
  {
   "cell_type": "code",
   "execution_count": 13,
   "metadata": {},
   "outputs": [],
   "source": [
    "import tensorflow as tf\n",
    "from PIL import Image\n",
    "from tensorflow.keras import layers,models\n",
    "import matplotlib.pyplot as plt\n",
    "import numpy as np"
   ]
  },
  {
   "cell_type": "code",
   "execution_count": 14,
   "metadata": {},
   "outputs": [],
   "source": [
    "Batch_Size=38\n",
    "Image_Size=256\n",
    "Channels=3\n",
    "Epochs=50"
   ]
  },
  {
   "cell_type": "code",
   "execution_count": 15,
   "metadata": {},
   "outputs": [
    {
     "name": "stdout",
     "output_type": "stream",
     "text": [
      "Found 3852 files belonging to 4 classes.\n"
     ]
    }
   ],
   "source": [
    "dataset= tf.keras.preprocessing.image_dataset_from_directory(\n",
    "    \"D:\\VSCode\\AI & ML Project\\Dataset\\Corn\",\n",
    "    shuffle=True,\n",
    "    image_size=(Image_Size,Image_Size),\n",
    "    batch_size= Batch_Size)\n"
   ]
  },
  {
   "cell_type": "code",
   "execution_count": 16,
   "metadata": {},
   "outputs": [
    {
     "data": {
      "text/plain": [
       "['Corn_(maize)___Cercospora_leaf_spot Gray_leaf_spot',\n",
       " 'Corn_(maize)___Common_rust_',\n",
       " 'Corn_(maize)___Northern_Leaf_Blight',\n",
       " 'Corn_(maize)___healthy']"
      ]
     },
     "execution_count": 16,
     "metadata": {},
     "output_type": "execute_result"
    }
   ],
   "source": [
    "class_names= dataset.class_names\n",
    "class_names"
   ]
  },
  {
   "cell_type": "code",
   "execution_count": 17,
   "metadata": {},
   "outputs": [],
   "source": [
    "def get_dataset_split(ds,train_split=0.8,val_split=0.1,test_split=0.1,shuffle=True,shuffle_size=10000):\n",
    "    assert(train_split+val_split+test_split)==1\n",
    "    ds_size= len(ds)\n",
    "    if shuffle:\n",
    "        ds=ds.shuffle(shuffle_size,seed=10)\n",
    "    train_size=int(train_split*ds_size)\n",
    "    val_size=int(val_split*ds_size)\n",
    "    train_ds=ds.take(train_size)\n",
    "    val_ds=ds.skip(train_size).take(val_size)\n",
    "    test_ds=ds.skip(train_size).skip(val_size)\n",
    "    \n",
    "    return train_ds,test_ds,val_ds"
   ]
  },
  {
   "cell_type": "code",
   "execution_count": 18,
   "metadata": {},
   "outputs": [],
   "source": [
    "train_ds,test_ds,val_ds = get_dataset_split(dataset)"
   ]
  },
  {
   "cell_type": "code",
   "execution_count": 19,
   "metadata": {},
   "outputs": [],
   "source": [
    "train_ds=train_ds.cache().shuffle(1000).prefetch(buffer_size=tf.data.AUTOTUNE)#loading to cache memory to reduce training time\n",
    "val_ds=val_ds.cache().shuffle(1000).prefetch(buffer_size=tf.data.AUTOTUNE)\n",
    "test_ds=test_ds.cache().shuffle(1000).prefetch(buffer_size=tf.data.AUTOTUNE)"
   ]
  },
  {
   "cell_type": "code",
   "execution_count": 20,
   "metadata": {},
   "outputs": [],
   "source": [
    "resize_and_rescale =tf.keras.Sequential([\n",
    "    layers.experimental.preprocessing.Resizing(Image_Size,Image_Size),#resizing\n",
    "    layers.experimental.preprocessing.Rescaling(1.0/255)#normalizing\n",
    "]\n",
    ")"
   ]
  },
  {
   "cell_type": "code",
   "execution_count": 21,
   "metadata": {},
   "outputs": [],
   "source": [
    "data_augmentation= tf.keras.Sequential([\n",
    "    layers.experimental.preprocessing.RandomFlip(\"horizontal_and_vertical\"),\n",
    "    layers.experimental.preprocessing.RandomRotation(0.2),\n",
    "    layers.experimental.preprocessing.RandomContrast(0.2),\n",
    "    layers.experimental.preprocessing.RandomZoom(0.3)\n",
    "])"
   ]
  },
  {
   "cell_type": "code",
   "execution_count": 22,
   "metadata": {},
   "outputs": [],
   "source": [
    "input_shape=(Batch_Size,Image_Size,Image_Size,Channels)\n",
    "n_classes=4\n",
    "model=models.Sequential([\n",
    "    resize_and_rescale,\n",
    "    data_augmentation,\n",
    "    layers.Conv2D(64,kernel_size=(3,3),activation='relu',input_shape=input_shape),#relu makes model non linear by converting negative values in feature map to 0\n",
    "    layers.MaxPooling2D((2,2)),\n",
    "    layers.Conv2D(64,kernel_size=(3,3),activation='relu'),\n",
    "    layers.MaxPooling2D((2,2)),\n",
    "    layers.Conv2D(64,kernel_size=(3,3),activation='relu'),\n",
    "    layers.MaxPooling2D((2,2)),\n",
    "    layers.Conv2D(64,kernel_size=(3,3),activation='relu'),\n",
    "    layers.MaxPooling2D((2,2)),\n",
    "    layers.Conv2D(64,kernel_size=(3,3),activation='relu'),\n",
    "    layers.MaxPooling2D((2,2)),\n",
    "    layers.Conv2D(64,kernel_size=(3,3),activation='relu'),\n",
    "    layers.MaxPooling2D((2,2)),\n",
    "    layers.Flatten(),\n",
    "    layers.Dense(64,activation='relu'),\n",
    "    layers.Dense(n_classes,activation='softmax'),\n",
    "])\n",
    "model.build(input_shape=input_shape)"
   ]
  },
  {
   "cell_type": "code",
   "execution_count": 23,
   "metadata": {},
   "outputs": [],
   "source": [
    "model.compile(\n",
    "    optimizer='adam',\n",
    "    loss=tf.keras.losses.SparseCategoricalCrossentropy(from_logits=False),\n",
    "    metrics=['accuracy']\n",
    ")"
   ]
  },
  {
   "cell_type": "code",
   "execution_count": 24,
   "metadata": {},
   "outputs": [
    {
     "name": "stdout",
     "output_type": "stream",
     "text": [
      "Epoch 1/50\n",
      "81/81 [==============================] - 205s 2s/step - loss: 0.9507 - accuracy: 0.5766 - val_loss: 0.3563 - val_accuracy: 0.8511\n",
      "Epoch 2/50\n",
      "81/81 [==============================] - 197s 2s/step - loss: 0.4082 - accuracy: 0.8317 - val_loss: 0.4083 - val_accuracy: 0.8427\n",
      "Epoch 3/50\n",
      "81/81 [==============================] - 192s 2s/step - loss: 0.4399 - accuracy: 0.8307 - val_loss: 0.2768 - val_accuracy: 0.8792\n",
      "Epoch 4/50\n",
      "81/81 [==============================] - 191s 2s/step - loss: 0.3252 - accuracy: 0.8563 - val_loss: 0.2458 - val_accuracy: 0.8652\n",
      "Epoch 5/50\n",
      "81/81 [==============================] - 191s 2s/step - loss: 0.3019 - accuracy: 0.8680 - val_loss: 0.2487 - val_accuracy: 0.8792\n",
      "Epoch 6/50\n",
      "81/81 [==============================] - 199s 2s/step - loss: 0.2804 - accuracy: 0.8713 - val_loss: 0.2266 - val_accuracy: 0.8792\n",
      "Epoch 7/50\n",
      "81/81 [==============================] - 190s 2s/step - loss: 0.2963 - accuracy: 0.8677 - val_loss: 0.2351 - val_accuracy: 0.8961\n",
      "Epoch 8/50\n",
      "81/81 [==============================] - 188s 2s/step - loss: 0.2927 - accuracy: 0.8677 - val_loss: 0.2925 - val_accuracy: 0.8848\n",
      "Epoch 9/50\n",
      "81/81 [==============================] - 187s 2s/step - loss: 0.2575 - accuracy: 0.8870 - val_loss: 0.2186 - val_accuracy: 0.9129\n",
      "Epoch 10/50\n",
      "81/81 [==============================] - 186s 2s/step - loss: 0.4172 - accuracy: 0.8363 - val_loss: 0.5806 - val_accuracy: 0.7978\n",
      "Epoch 11/50\n",
      "81/81 [==============================] - 186s 2s/step - loss: 0.3226 - accuracy: 0.8648 - val_loss: 0.2043 - val_accuracy: 0.8989\n",
      "Epoch 12/50\n",
      "81/81 [==============================] - 202s 2s/step - loss: 0.2496 - accuracy: 0.8815 - val_loss: 0.2008 - val_accuracy: 0.9213\n",
      "Epoch 13/50\n",
      "81/81 [==============================] - 191s 2s/step - loss: 0.2401 - accuracy: 0.8975 - val_loss: 0.1742 - val_accuracy: 0.9298\n",
      "Epoch 14/50\n",
      "81/81 [==============================] - 185s 2s/step - loss: 0.2762 - accuracy: 0.8883 - val_loss: 0.2253 - val_accuracy: 0.8933\n",
      "Epoch 15/50\n",
      "81/81 [==============================] - 187s 2s/step - loss: 0.2532 - accuracy: 0.8897 - val_loss: 0.1761 - val_accuracy: 0.9270\n",
      "Epoch 16/50\n",
      "81/81 [==============================] - 186s 2s/step - loss: 0.2284 - accuracy: 0.9103 - val_loss: 0.1837 - val_accuracy: 0.9242\n",
      "Epoch 17/50\n",
      "81/81 [==============================] - 192s 2s/step - loss: 0.2113 - accuracy: 0.9122 - val_loss: 0.2205 - val_accuracy: 0.8736\n",
      "Epoch 18/50\n",
      "81/81 [==============================] - 179s 2s/step - loss: 0.2405 - accuracy: 0.8978 - val_loss: 0.1678 - val_accuracy: 0.9270\n",
      "Epoch 19/50\n",
      "81/81 [==============================] - 181s 2s/step - loss: 0.1954 - accuracy: 0.9181 - val_loss: 0.1676 - val_accuracy: 0.9354\n",
      "Epoch 20/50\n",
      "81/81 [==============================] - 179s 2s/step - loss: 0.2120 - accuracy: 0.9126 - val_loss: 0.1855 - val_accuracy: 0.9242\n",
      "Epoch 21/50\n",
      "81/81 [==============================] - 179s 2s/step - loss: 0.2496 - accuracy: 0.8923 - val_loss: 0.2005 - val_accuracy: 0.9045\n",
      "Epoch 22/50\n",
      "81/81 [==============================] - 181s 2s/step - loss: 0.2017 - accuracy: 0.9194 - val_loss: 0.1181 - val_accuracy: 0.9522\n",
      "Epoch 23/50\n",
      "81/81 [==============================] - 184s 2s/step - loss: 0.2146 - accuracy: 0.9129 - val_loss: 0.1282 - val_accuracy: 0.9522\n",
      "Epoch 24/50\n",
      "81/81 [==============================] - 183s 2s/step - loss: 0.1973 - accuracy: 0.9234 - val_loss: 0.2100 - val_accuracy: 0.9017\n",
      "Epoch 25/50\n",
      "81/81 [==============================] - 184s 2s/step - loss: 0.1924 - accuracy: 0.9113 - val_loss: 0.1292 - val_accuracy: 0.9438\n",
      "Epoch 26/50\n",
      "81/81 [==============================] - 183s 2s/step - loss: 0.1751 - accuracy: 0.9289 - val_loss: 0.1542 - val_accuracy: 0.9298\n",
      "Epoch 27/50\n",
      "81/81 [==============================] - 185s 2s/step - loss: 0.1888 - accuracy: 0.9237 - val_loss: 0.1189 - val_accuracy: 0.9607\n",
      "Epoch 28/50\n",
      "81/81 [==============================] - 183s 2s/step - loss: 0.1788 - accuracy: 0.9234 - val_loss: 0.1348 - val_accuracy: 0.9410\n",
      "Epoch 29/50\n",
      "81/81 [==============================] - 183s 2s/step - loss: 0.1597 - accuracy: 0.9375 - val_loss: 0.1247 - val_accuracy: 0.9579\n",
      "Epoch 30/50\n",
      "81/81 [==============================] - 182s 2s/step - loss: 0.1844 - accuracy: 0.9286 - val_loss: 0.1130 - val_accuracy: 0.9551\n",
      "Epoch 31/50\n",
      "81/81 [==============================] - 179s 2s/step - loss: 0.1625 - accuracy: 0.9384 - val_loss: 0.1000 - val_accuracy: 0.9607\n",
      "Epoch 32/50\n",
      "81/81 [==============================] - 178s 2s/step - loss: 0.1669 - accuracy: 0.9375 - val_loss: 0.1328 - val_accuracy: 0.9466\n",
      "Epoch 33/50\n",
      "81/81 [==============================] - 178s 2s/step - loss: 0.1536 - accuracy: 0.9434 - val_loss: 0.1088 - val_accuracy: 0.9522\n",
      "Epoch 34/50\n",
      "81/81 [==============================] - 178s 2s/step - loss: 0.1414 - accuracy: 0.9443 - val_loss: 0.1176 - val_accuracy: 0.9691\n",
      "Epoch 35/50\n",
      "81/81 [==============================] - 178s 2s/step - loss: 0.1442 - accuracy: 0.9473 - val_loss: 0.1104 - val_accuracy: 0.9551\n",
      "Epoch 36/50\n",
      "81/81 [==============================] - 177s 2s/step - loss: 0.1406 - accuracy: 0.9417 - val_loss: 0.1621 - val_accuracy: 0.9354\n",
      "Epoch 37/50\n",
      "81/81 [==============================] - 178s 2s/step - loss: 0.1847 - accuracy: 0.9260 - val_loss: 0.1249 - val_accuracy: 0.9438\n",
      "Epoch 38/50\n",
      "81/81 [==============================] - 178s 2s/step - loss: 0.1493 - accuracy: 0.9463 - val_loss: 0.1129 - val_accuracy: 0.9494\n",
      "Epoch 39/50\n",
      "81/81 [==============================] - 178s 2s/step - loss: 0.1342 - accuracy: 0.9476 - val_loss: 0.1379 - val_accuracy: 0.9494\n",
      "Epoch 40/50\n",
      "81/81 [==============================] - 177s 2s/step - loss: 0.1376 - accuracy: 0.9470 - val_loss: 0.1281 - val_accuracy: 0.9438\n",
      "Epoch 41/50\n",
      "81/81 [==============================] - 177s 2s/step - loss: 0.1389 - accuracy: 0.9483 - val_loss: 0.1153 - val_accuracy: 0.9494\n",
      "Epoch 42/50\n",
      "81/81 [==============================] - 184s 2s/step - loss: 0.1453 - accuracy: 0.9483 - val_loss: 0.1059 - val_accuracy: 0.9551\n",
      "Epoch 43/50\n",
      "81/81 [==============================] - 184s 2s/step - loss: 0.1472 - accuracy: 0.9434 - val_loss: 0.1333 - val_accuracy: 0.9579\n",
      "Epoch 44/50\n",
      "81/81 [==============================] - 192s 2s/step - loss: 0.1369 - accuracy: 0.9499 - val_loss: 0.1132 - val_accuracy: 0.9607\n",
      "Epoch 45/50\n",
      "81/81 [==============================] - 191s 2s/step - loss: 0.1311 - accuracy: 0.9499 - val_loss: 0.1167 - val_accuracy: 0.9466\n",
      "Epoch 46/50\n",
      "81/81 [==============================] - 188s 2s/step - loss: 0.1379 - accuracy: 0.9486 - val_loss: 0.1055 - val_accuracy: 0.9551\n",
      "Epoch 47/50\n",
      "81/81 [==============================] - 192s 2s/step - loss: 0.1366 - accuracy: 0.9456 - val_loss: 0.1093 - val_accuracy: 0.9635\n",
      "Epoch 48/50\n",
      "81/81 [==============================] - 198s 2s/step - loss: 0.1268 - accuracy: 0.9535 - val_loss: 0.0973 - val_accuracy: 0.9663\n",
      "Epoch 49/50\n",
      "81/81 [==============================] - 181s 2s/step - loss: 0.1407 - accuracy: 0.9460 - val_loss: 0.2296 - val_accuracy: 0.9045\n",
      "Epoch 50/50\n",
      "81/81 [==============================] - 181s 2s/step - loss: 0.1358 - accuracy: 0.9463 - val_loss: 0.1114 - val_accuracy: 0.9663\n"
     ]
    }
   ],
   "source": [
    "data=model.fit(\n",
    "    train_ds,\n",
    "    batch_size=Batch_Size,\n",
    "    validation_data=val_ds,\n",
    "    verbose=1,\n",
    "    epochs=Epochs)"
   ]
  },
  {
   "cell_type": "code",
   "execution_count": 25,
   "metadata": {},
   "outputs": [
    {
     "name": "stdout",
     "output_type": "stream",
     "text": [
      "11/11 [==============================] - 7s 482ms/step - loss: 0.0922 - accuracy: 0.9594\n"
     ]
    }
   ],
   "source": [
    "scores=model.evaluate(test_ds)"
   ]
  },
  {
   "cell_type": "code",
   "execution_count": 16,
   "metadata": {},
   "outputs": [],
   "source": []
  },
  {
   "cell_type": "code",
   "execution_count": 26,
   "metadata": {},
   "outputs": [
    {
     "name": "stdout",
     "output_type": "stream",
     "text": [
      "INFO:tensorflow:Assets written to: D:/VSCode/AI & ML Project/models/corn\\assets\n"
     ]
    },
    {
     "name": "stderr",
     "output_type": "stream",
     "text": [
      "INFO:tensorflow:Assets written to: D:/VSCode/AI & ML Project/models/corn\\assets\n"
     ]
    }
   ],
   "source": [
    "model.save(\"D:/VSCode/AI & ML Project/models/corn\")"
   ]
  },
  {
   "cell_type": "code",
   "execution_count": 27,
   "metadata": {},
   "outputs": [],
   "source": [
    "model=tf.keras.models.load_model(\"D:/VSCode/AI & ML Project/models/corn\")"
   ]
  },
  {
   "cell_type": "code",
   "execution_count": 28,
   "metadata": {},
   "outputs": [
    {
     "name": "stdout",
     "output_type": "stream",
     "text": [
      "1/1 [==============================] - 0s 140ms/step\n",
      "Predicted Disease Corn_(maize)___Common_rust_\n"
     ]
    }
   ],
   "source": [
    "# for images_batch,labels_batch in test_ds.take(1):\n",
    "#     image=images_batch[0].numpy().astype(\"uint8\")\n",
    "#     plt.imshow(image)\n",
    "   \n",
    "filename = \"D:/VSCode/AI & ML Project/uploads/1fecd8b3-b9a7-4d56-97f4-9728c20d0877___Rutg._Bact.S 1632.JPG\"\n",
    "def process_image(image_path):\n",
    "    # Load and preprocess the image for your model\n",
    "    img = Image.open(image_path)\n",
    "    img = img.resize((256, 256))  # adjust the size according to your model's input\n",
    "    img_array = np.array(img) / 255.0  # normalize pixel values\n",
    "    img_array = np.expand_dims(img_array, axis=0)  # add batch dimension\n",
    "    return img_array\n",
    "\n",
    "img_array = process_image(filename)\n",
    "batch_prediction= model.predict(img_array)\n",
    "print(\"Predicted Disease\",class_names[np.argmax(batch_prediction[0])])"
   ]
  }
 ],
 "metadata": {
  "kernelspec": {
   "display_name": "Python 3",
   "language": "python",
   "name": "python3"
  },
  "language_info": {
   "codemirror_mode": {
    "name": "ipython",
    "version": 3
   },
   "file_extension": ".py",
   "mimetype": "text/x-python",
   "name": "python",
   "nbconvert_exporter": "python",
   "pygments_lexer": "ipython3",
   "version": "3.11.6"
  }
 },
 "nbformat": 4,
 "nbformat_minor": 2
}
