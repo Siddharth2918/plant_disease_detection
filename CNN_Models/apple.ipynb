{
 "cells": [
  {
   "cell_type": "code",
   "execution_count": 2,
   "metadata": {},
   "outputs": [],
   "source": [
    "import tensorflow as tf\n",
    "from PIL import Image\n",
    "from tensorflow.keras import layers,models\n",
    "import matplotlib.pyplot as plt\n",
    "import numpy as np"
   ]
  },
  {
   "cell_type": "code",
   "execution_count": 5,
   "metadata": {},
   "outputs": [],
   "source": [
    "Batch_Size=31\n",
    "Image_Size=256\n",
    "Channels=3\n",
    "Epochs=30"
   ]
  },
  {
   "cell_type": "code",
   "execution_count": 6,
   "metadata": {},
   "outputs": [
    {
     "name": "stdout",
     "output_type": "stream",
     "text": [
      "Found 3171 files belonging to 4 classes.\n"
     ]
    }
   ],
   "source": [
    "dataset= tf.keras.preprocessing.image_dataset_from_directory(\n",
    "    \"D:/VSCode/AI & ML Project/Dataset/Apple\",\n",
    "    shuffle=True,\n",
    "    image_size=(Image_Size,Image_Size),\n",
    "    batch_size= Batch_Size\n",
    ")"
   ]
  },
  {
   "cell_type": "code",
   "execution_count": 43,
   "metadata": {},
   "outputs": [
    {
     "data": {
      "text/plain": [
       "['Apple___Apple_scab',\n",
       " 'Apple___Black_rot',\n",
       " 'Apple___Cedar_apple_rust',\n",
       " 'Apple___healthy']"
      ]
     },
     "execution_count": 43,
     "metadata": {},
     "output_type": "execute_result"
    }
   ],
   "source": [
    "class_names= dataset.class_names\n",
    "class_names"
   ]
  },
  {
   "cell_type": "code",
   "execution_count": 7,
   "metadata": {},
   "outputs": [],
   "source": [
    "def get_dataset_split(ds,train_split=0.8,val_split=0.1,test_split=0.1,shuffle=True,shuffle_size=10000):\n",
    "    assert(train_split+val_split+test_split)==1\n",
    "    ds_size= len(ds)\n",
    "    if shuffle:\n",
    "        ds=ds.shuffle(shuffle_size,seed=10)\n",
    "    train_size=int(train_split*ds_size)\n",
    "    val_size=int(val_split*ds_size)\n",
    "    train_ds=ds.take(train_size)\n",
    "    val_ds=ds.skip(train_size).take(val_size)\n",
    "    test_ds=ds.skip(train_size).skip(val_size)\n",
    "    \n",
    "    return train_ds,test_ds,val_ds\n"
   ]
  },
  {
   "cell_type": "code",
   "execution_count": 8,
   "metadata": {},
   "outputs": [],
   "source": [
    "train_ds,test_ds,val_ds = get_dataset_split(dataset)"
   ]
  },
  {
   "cell_type": "code",
   "execution_count": 46,
   "metadata": {},
   "outputs": [
    {
     "name": "stdout",
     "output_type": "stream",
     "text": [
      "82 11 10\n"
     ]
    }
   ],
   "source": [
    "print(len(train_ds),len(test_ds),len(val_ds))"
   ]
  },
  {
   "cell_type": "code",
   "execution_count": 47,
   "metadata": {},
   "outputs": [],
   "source": [
    "train_ds=train_ds.cache().shuffle(1000).prefetch(buffer_size=tf.data.AUTOTUNE)#loading to cache memory to reduce training time\n",
    "val_ds=val_ds.cache().shuffle(1000).prefetch(buffer_size=tf.data.AUTOTUNE)\n",
    "test_ds=test_ds.cache().shuffle(1000).prefetch(buffer_size=tf.data.AUTOTUNE)"
   ]
  },
  {
   "cell_type": "code",
   "execution_count": 48,
   "metadata": {},
   "outputs": [],
   "source": [
    "resize_and_rescale =tf.keras.Sequential([\n",
    "    layers.experimental.preprocessing.Resizing(Image_Size,Image_Size),#resizing\n",
    "    layers.experimental.preprocessing.Rescaling(1.0/255)#normalizing\n",
    "])"
   ]
  },
  {
   "cell_type": "code",
   "execution_count": 49,
   "metadata": {},
   "outputs": [],
   "source": [
    "data_augmentation= tf.keras.Sequential([\n",
    "    layers.experimental.preprocessing.RandomFlip(\"horizontal_and_vertical\"),\n",
    "    layers.experimental.preprocessing.RandomRotation(0.2),\n",
    "    layers.experimental.preprocessing.RandomContrast(0.2),\n",
    "    layers.experimental.preprocessing.RandomZoom(0.3)\n",
    "])"
   ]
  },
  {
   "cell_type": "code",
   "execution_count": 50,
   "metadata": {},
   "outputs": [],
   "source": [
    "input_shape=(Batch_Size,Image_Size,Image_Size,Channels)\n",
    "n_classes=4\n",
    "model=models.Sequential([\n",
    "    resize_and_rescale,\n",
    "    data_augmentation,\n",
    "    layers.Conv2D(32,kernel_size=(3,3),activation='relu',input_shape=input_shape),#relu makes model non linear by converting negative values in feature map to 0\n",
    "    layers.MaxPooling2D((2,2)),\n",
    "    layers.Conv2D(64,kernel_size=(3,3),activation='relu'),\n",
    "    layers.MaxPooling2D((2,2)),\n",
    "    layers.Conv2D(64,kernel_size=(3,3),activation='relu'),\n",
    "    layers.MaxPooling2D((2,2)),\n",
    "    layers.Conv2D(64,kernel_size=(3,3),activation='relu'),\n",
    "    layers.MaxPooling2D((2,2)),\n",
    "    layers.Conv2D(64,kernel_size=(3,3),activation='relu'),\n",
    "    layers.MaxPooling2D((2,2)),\n",
    "    layers.Conv2D(64,kernel_size=(3,3),activation='relu'),\n",
    "    layers.MaxPooling2D((2,2)),\n",
    "    layers.Flatten(),\n",
    "    layers.Dense(64,activation='relu'),\n",
    "    layers.Dense(n_classes,activation='softmax'),\n",
    "])\n",
    "model.build(input_shape=input_shape)"
   ]
  },
  {
   "cell_type": "code",
   "execution_count": 51,
   "metadata": {},
   "outputs": [],
   "source": [
    "model.compile(\n",
    "    optimizer='adam',\n",
    "    loss=tf.keras.losses.SparseCategoricalCrossentropy(from_logits=False),\n",
    "    metrics=['accuracy']\n",
    ")"
   ]
  },
  {
   "cell_type": "code",
   "execution_count": 52,
   "metadata": {},
   "outputs": [
    {
     "name": "stdout",
     "output_type": "stream",
     "text": [
      "Epoch 1/30\n"
     ]
    },
    {
     "name": "stdout",
     "output_type": "stream",
     "text": [
      "82/82 [==============================] - 107s 1s/step - loss: 1.1002 - accuracy: 0.5337 - val_loss: 0.9654 - val_accuracy: 0.5774\n",
      "Epoch 2/30\n",
      "82/82 [==============================] - 115s 1s/step - loss: 0.8512 - accuracy: 0.6317 - val_loss: 0.9791 - val_accuracy: 0.6935\n",
      "Epoch 3/30\n",
      "82/82 [==============================] - 96s 1s/step - loss: 0.8308 - accuracy: 0.6381 - val_loss: 0.9299 - val_accuracy: 0.6419\n",
      "Epoch 4/30\n",
      "82/82 [==============================] - 96s 1s/step - loss: 0.6696 - accuracy: 0.7246 - val_loss: 0.6666 - val_accuracy: 0.7387\n",
      "Epoch 5/30\n",
      "82/82 [==============================] - 94s 1s/step - loss: 0.5978 - accuracy: 0.7603 - val_loss: 0.9870 - val_accuracy: 0.7097\n",
      "Epoch 6/30\n",
      "82/82 [==============================] - 94s 1s/step - loss: 0.5331 - accuracy: 0.7857 - val_loss: 0.7154 - val_accuracy: 0.7742\n",
      "Epoch 7/30\n",
      "82/82 [==============================] - 95s 1s/step - loss: 0.5749 - accuracy: 0.7694 - val_loss: 0.9874 - val_accuracy: 0.6903\n",
      "Epoch 8/30\n",
      "82/82 [==============================] - 95s 1s/step - loss: 0.5569 - accuracy: 0.7718 - val_loss: 1.1908 - val_accuracy: 0.7032\n",
      "Epoch 9/30\n",
      "82/82 [==============================] - 94s 1s/step - loss: 0.4903 - accuracy: 0.8063 - val_loss: 0.7397 - val_accuracy: 0.7677\n",
      "Epoch 10/30\n",
      "82/82 [==============================] - 100s 1s/step - loss: 0.4550 - accuracy: 0.8147 - val_loss: 0.6887 - val_accuracy: 0.7774\n",
      "Epoch 11/30\n",
      "82/82 [==============================] - 95s 1s/step - loss: 0.4542 - accuracy: 0.8258 - val_loss: 0.2881 - val_accuracy: 0.9097\n",
      "Epoch 12/30\n",
      "82/82 [==============================] - 95s 1s/step - loss: 0.3759 - accuracy: 0.8611 - val_loss: 0.5090 - val_accuracy: 0.8290\n",
      "Epoch 13/30\n",
      "82/82 [==============================] - 95s 1s/step - loss: 0.2839 - accuracy: 0.9000 - val_loss: 0.4378 - val_accuracy: 0.8677\n",
      "Epoch 14/30\n",
      "82/82 [==============================] - 94s 1s/step - loss: 0.2574 - accuracy: 0.8984 - val_loss: 0.5401 - val_accuracy: 0.8387\n",
      "Epoch 15/30\n",
      "82/82 [==============================] - 94s 1s/step - loss: 0.2703 - accuracy: 0.9004 - val_loss: 0.4624 - val_accuracy: 0.8935\n",
      "Epoch 16/30\n",
      "82/82 [==============================] - 95s 1s/step - loss: 0.2379 - accuracy: 0.9147 - val_loss: 0.3361 - val_accuracy: 0.9097\n",
      "Epoch 17/30\n",
      "82/82 [==============================] - 94s 1s/step - loss: 0.2198 - accuracy: 0.9171 - val_loss: 0.1915 - val_accuracy: 0.9258\n",
      "Epoch 18/30\n",
      "82/82 [==============================] - 94s 1s/step - loss: 0.1520 - accuracy: 0.9448 - val_loss: 0.3277 - val_accuracy: 0.9032\n",
      "Epoch 19/30\n",
      "82/82 [==============================] - 94s 1s/step - loss: 0.1424 - accuracy: 0.9492 - val_loss: 0.1465 - val_accuracy: 0.9581\n",
      "Epoch 20/30\n",
      "82/82 [==============================] - 94s 1s/step - loss: 0.2208 - accuracy: 0.9206 - val_loss: 0.5937 - val_accuracy: 0.8387\n",
      "Epoch 21/30\n",
      "82/82 [==============================] - 94s 1s/step - loss: 0.1394 - accuracy: 0.9440 - val_loss: 0.1529 - val_accuracy: 0.9516\n",
      "Epoch 22/30\n",
      "82/82 [==============================] - 94s 1s/step - loss: 0.1544 - accuracy: 0.9504 - val_loss: 0.2445 - val_accuracy: 0.9161\n",
      "Epoch 23/30\n",
      "82/82 [==============================] - 95s 1s/step - loss: 0.1153 - accuracy: 0.9552 - val_loss: 0.2015 - val_accuracy: 0.9419\n",
      "Epoch 24/30\n",
      "82/82 [==============================] - 94s 1s/step - loss: 0.1825 - accuracy: 0.9278 - val_loss: 0.2429 - val_accuracy: 0.9290\n",
      "Epoch 25/30\n",
      "82/82 [==============================] - 94s 1s/step - loss: 0.1273 - accuracy: 0.9540 - val_loss: 0.2722 - val_accuracy: 0.9387\n",
      "Epoch 26/30\n",
      "82/82 [==============================] - 95s 1s/step - loss: 0.1064 - accuracy: 0.9599 - val_loss: 0.1556 - val_accuracy: 0.9581\n",
      "Epoch 27/30\n",
      "82/82 [==============================] - 95s 1s/step - loss: 0.0787 - accuracy: 0.9730 - val_loss: 0.2952 - val_accuracy: 0.9355\n",
      "Epoch 28/30\n",
      "82/82 [==============================] - 101s 1s/step - loss: 0.1149 - accuracy: 0.9563 - val_loss: 0.2304 - val_accuracy: 0.9548\n",
      "Epoch 29/30\n",
      "82/82 [==============================] - 100s 1s/step - loss: 0.0942 - accuracy: 0.9615 - val_loss: 0.1098 - val_accuracy: 0.9677\n",
      "Epoch 30/30\n",
      "82/82 [==============================] - 97s 1s/step - loss: 0.1018 - accuracy: 0.9631 - val_loss: 0.3046 - val_accuracy: 0.9387\n"
     ]
    }
   ],
   "source": [
    "data=model.fit(\n",
    "    train_ds,\n",
    "    batch_size=Batch_Size,\n",
    "    validation_data=val_ds,\n",
    "    verbose=1,\n",
    "    epochs=Epochs\n",
    ")"
   ]
  },
  {
   "cell_type": "code",
   "execution_count": 57,
   "metadata": {},
   "outputs": [
    {
     "name": "stdout",
     "output_type": "stream",
     "text": [
      "INFO:tensorflow:Assets written to: D:/VSCode/AI & ML Project/models/apple\\assets\n"
     ]
    },
    {
     "name": "stderr",
     "output_type": "stream",
     "text": [
      "INFO:tensorflow:Assets written to: D:/VSCode/AI & ML Project/models/apple\\assets\n"
     ]
    }
   ],
   "source": [
    "model.save(\"D:/VSCode/AI & ML Project/models/apple\")"
   ]
  },
  {
   "cell_type": "code",
   "execution_count": 23,
   "metadata": {},
   "outputs": [
    {
     "name": "stdout",
     "output_type": "stream",
     "text": [
      "11/11 [==============================] - 6s 417ms/step - loss: 0.2076 - accuracy: 0.9355\n"
     ]
    }
   ],
   "source": [
    "scores=model.evaluate(test_ds)"
   ]
  },
  {
   "cell_type": "code",
   "execution_count": 18,
   "metadata": {},
   "outputs": [],
   "source": [
    "model=tf.keras.models.load_model(\"D:/VSCode/AI & ML Project/models/apple\")"
   ]
  },
  {
   "cell_type": "code",
   "execution_count": 22,
   "metadata": {},
   "outputs": [
    {
     "name": "stdout",
     "output_type": "stream",
     "text": [
      "11/11 [==============================] - 6s 410ms/step - loss: 0.1958 - accuracy: 0.9443\n"
     ]
    }
   ],
   "source": [
    "scores=model.evaluate(test_ds)"
   ]
  },
  {
   "cell_type": "code",
   "execution_count": 61,
   "metadata": {},
   "outputs": [
    {
     "name": "stdout",
     "output_type": "stream",
     "text": [
      "1/1 [==============================] - 0s 26ms/step\n",
      "Predicted Disease Apple___healthy\n"
     ]
    }
   ],
   "source": [
    "filename = \"D:/VSCode/AI & ML Project/Dataset/Apple/Apple___Apple_scab/0a5e9323-dbad-432d-ac58-d291718345d9___FREC_Scab 3417.JPG\"\n",
    "# AI & ML Project/Dataset/Tomato/Tomato___Bacterial_spot/00a7c269-3476-4d25-b744-44d6353cd921___GCREC_Bact.Sp 5807.JPG\n",
    "# AI & ML Project/Dataset/Apple/Apple___Apple_scab/0a5e9323-dbad-432d-ac58-d291718345d9___FREC_Scab 3417.JPG\n",
    "def process_image(image_path):\n",
    "    # Load and preprocess the image for your model\n",
    "    img = Image.open(image_path)\n",
    "    img = img.resize((256, 256))  # adjust the size according to your model's input\n",
    "    img_array = np.array(img) / 255.0  # normalize pixel values\n",
    "    img_array = np.expand_dims(img_array, axis=0)  # add batch dimension\n",
    "    return img_array\n",
    "\n",
    "img_array = process_image(filename)\n",
    "batch_prediction= model.predict(img_array)\n",
    "print(\"Predicted Disease\",class_names[np.argmax(batch_prediction[0])])"
   ]
  }
 ],
 "metadata": {
  "kernelspec": {
   "display_name": "Python 3",
   "language": "python",
   "name": "python3"
  },
  "language_info": {
   "codemirror_mode": {
    "name": "ipython",
    "version": 3
   },
   "file_extension": ".py",
   "mimetype": "text/x-python",
   "name": "python",
   "nbconvert_exporter": "python",
   "pygments_lexer": "ipython3",
   "version": "3.11.6"
  }
 },
 "nbformat": 4,
 "nbformat_minor": 2
}
